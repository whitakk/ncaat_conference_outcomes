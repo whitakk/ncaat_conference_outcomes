{
 "cells": [
  {
   "cell_type": "markdown",
   "metadata": {},
   "source": [
    "calculate conditional probabilities of advancing in each round by seed"
   ]
  },
  {
   "cell_type": "code",
   "execution_count": 1,
   "metadata": {},
   "outputs": [],
   "source": [
    "import os\n",
    "os.chdir(\"..\")\n",
    "\n",
    "import pandas as pd\n",
    "import json\n",
    "\n",
    "from src.classes.constants import DATA_PATH, MODEL_PATH\n",
    "\n",
    "df = pd.read_csv(f'{DATA_PATH}/seed_outcomes.csv')"
   ]
  },
  {
   "cell_type": "code",
   "execution_count": 2,
   "metadata": {},
   "outputs": [],
   "source": [
    "df[1] = (df['r32']/df['r64']).fillna(0)\n",
    "df[2] = (df['s16']/df['r32']).fillna(0)\n",
    "df[3] = (df['e8']/df['s16']).fillna(0)\n",
    "df[4] = (df['f4']/df['e8']).fillna(0)\n",
    "df[5] = (df['f2']/df['f4']).fillna(0)\n",
    "df[6] = (df['champ']/df['f2']).fillna(0)"
   ]
  },
  {
   "cell_type": "code",
   "execution_count": 3,
   "metadata": {},
   "outputs": [],
   "source": [
    "df.sort_values('seed')[['seed',1,2,3,4,5,6]].to_csv(f'{MODEL_PATH}/seed_advancement.csv', index=False)"
   ]
  }
 ],
 "metadata": {
  "kernelspec": {
   "display_name": "cbb",
   "language": "python",
   "name": "python3"
  },
  "language_info": {
   "codemirror_mode": {
    "name": "ipython",
    "version": 3
   },
   "file_extension": ".py",
   "mimetype": "text/x-python",
   "name": "python",
   "nbconvert_exporter": "python",
   "pygments_lexer": "ipython3",
   "version": "3.8.13"
  }
 },
 "nbformat": 4,
 "nbformat_minor": 2
}
