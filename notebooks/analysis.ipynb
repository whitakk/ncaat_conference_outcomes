{
 "cells": [
  {
   "cell_type": "code",
   "execution_count": 1,
   "metadata": {},
   "outputs": [],
   "source": [
    "import os\n",
    "os.chdir(\"..\")\n",
    "\n",
    "import pandas as pd\n",
    "import statsmodels.formula.api as smf\n",
    "\n",
    "from src.classes.constants import DATA_PATH"
   ]
  },
  {
   "cell_type": "markdown",
   "metadata": {},
   "source": [
    "### Set up data"
   ]
  },
  {
   "cell_type": "code",
   "execution_count": 2,
   "metadata": {},
   "outputs": [
    {
     "data": {
      "text/html": [
       "<div>\n",
       "<style scoped>\n",
       "    .dataframe tbody tr th:only-of-type {\n",
       "        vertical-align: middle;\n",
       "    }\n",
       "\n",
       "    .dataframe tbody tr th {\n",
       "        vertical-align: top;\n",
       "    }\n",
       "\n",
       "    .dataframe thead th {\n",
       "        text-align: right;\n",
       "    }\n",
       "</style>\n",
       "<table border=\"1\" class=\"dataframe\">\n",
       "  <thead>\n",
       "    <tr style=\"text-align: right;\">\n",
       "      <th></th>\n",
       "      <th>rk</th>\n",
       "      <th>team</th>\n",
       "      <th>pake</th>\n",
       "      <th>pase</th>\n",
       "      <th>wins</th>\n",
       "      <th>loss</th>\n",
       "      <th>w%</th>\n",
       "      <th>r64</th>\n",
       "      <th>r32</th>\n",
       "      <th>s16</th>\n",
       "      <th>...</th>\n",
       "      <th>f4</th>\n",
       "      <th>f2</th>\n",
       "      <th>champ</th>\n",
       "      <th>top2</th>\n",
       "      <th>f4%</th>\n",
       "      <th>champ%</th>\n",
       "      <th>season</th>\n",
       "      <th>conf</th>\n",
       "      <th>seed</th>\n",
       "      <th>region</th>\n",
       "    </tr>\n",
       "  </thead>\n",
       "  <tbody>\n",
       "    <tr>\n",
       "      <th>0</th>\n",
       "      <td>1</td>\n",
       "      <td>Kansas</td>\n",
       "      <td>2.1</td>\n",
       "      <td>2.7</td>\n",
       "      <td>6</td>\n",
       "      <td>0</td>\n",
       "      <td>1.000</td>\n",
       "      <td>1</td>\n",
       "      <td>1</td>\n",
       "      <td>1</td>\n",
       "      <td>...</td>\n",
       "      <td>1</td>\n",
       "      <td>1</td>\n",
       "      <td>1</td>\n",
       "      <td>1</td>\n",
       "      <td>57.3%</td>\n",
       "      <td>29.6%</td>\n",
       "      <td>2008</td>\n",
       "      <td>B12</td>\n",
       "      <td>1.0</td>\n",
       "      <td>0</td>\n",
       "    </tr>\n",
       "    <tr>\n",
       "      <th>1</th>\n",
       "      <td>2</td>\n",
       "      <td>Davidson</td>\n",
       "      <td>1.6</td>\n",
       "      <td>2.4</td>\n",
       "      <td>3</td>\n",
       "      <td>1</td>\n",
       "      <td>0.750</td>\n",
       "      <td>1</td>\n",
       "      <td>1</td>\n",
       "      <td>1</td>\n",
       "      <td>...</td>\n",
       "      <td>0</td>\n",
       "      <td>0</td>\n",
       "      <td>0</td>\n",
       "      <td>0</td>\n",
       "      <td>7.8%</td>\n",
       "      <td>2.2%</td>\n",
       "      <td>2008</td>\n",
       "      <td>SC</td>\n",
       "      <td>10.0</td>\n",
       "      <td>0</td>\n",
       "    </tr>\n",
       "    <tr>\n",
       "      <th>2</th>\n",
       "      <td>3</td>\n",
       "      <td>Memphis</td>\n",
       "      <td>1.5</td>\n",
       "      <td>1.7</td>\n",
       "      <td>5</td>\n",
       "      <td>1</td>\n",
       "      <td>0.833</td>\n",
       "      <td>1</td>\n",
       "      <td>1</td>\n",
       "      <td>1</td>\n",
       "      <td>...</td>\n",
       "      <td>1</td>\n",
       "      <td>1</td>\n",
       "      <td>0</td>\n",
       "      <td>1</td>\n",
       "      <td>50.6%</td>\n",
       "      <td>20.2%</td>\n",
       "      <td>2008</td>\n",
       "      <td>CUSA</td>\n",
       "      <td>1.0</td>\n",
       "      <td>2</td>\n",
       "    </tr>\n",
       "    <tr>\n",
       "      <th>3</th>\n",
       "      <td>4</td>\n",
       "      <td>Villanova</td>\n",
       "      <td>1.4</td>\n",
       "      <td>1.5</td>\n",
       "      <td>2</td>\n",
       "      <td>1</td>\n",
       "      <td>0.667</td>\n",
       "      <td>1</td>\n",
       "      <td>1</td>\n",
       "      <td>1</td>\n",
       "      <td>...</td>\n",
       "      <td>0</td>\n",
       "      <td>0</td>\n",
       "      <td>0</td>\n",
       "      <td>0</td>\n",
       "      <td>0.9%</td>\n",
       "      <td>0.1%</td>\n",
       "      <td>2008</td>\n",
       "      <td>BE</td>\n",
       "      <td>12.0</td>\n",
       "      <td>0</td>\n",
       "    </tr>\n",
       "    <tr>\n",
       "      <th>4</th>\n",
       "      <td>5</td>\n",
       "      <td>Xavier</td>\n",
       "      <td>1.4</td>\n",
       "      <td>1.2</td>\n",
       "      <td>3</td>\n",
       "      <td>1</td>\n",
       "      <td>0.750</td>\n",
       "      <td>1</td>\n",
       "      <td>1</td>\n",
       "      <td>1</td>\n",
       "      <td>...</td>\n",
       "      <td>0</td>\n",
       "      <td>0</td>\n",
       "      <td>0</td>\n",
       "      <td>0</td>\n",
       "      <td>8.3%</td>\n",
       "      <td>0.8%</td>\n",
       "      <td>2008</td>\n",
       "      <td>A10</td>\n",
       "      <td>3.0</td>\n",
       "      <td>3</td>\n",
       "    </tr>\n",
       "  </tbody>\n",
       "</table>\n",
       "<p>5 rows × 21 columns</p>\n",
       "</div>"
      ],
      "text/plain": [
       "   rk       team  pake  pase  wins  loss     w%  r64  r32  s16  ...  f4  f2  \\\n",
       "0   1     Kansas   2.1   2.7     6     0  1.000    1    1    1  ...   1   1   \n",
       "1   2   Davidson   1.6   2.4     3     1  0.750    1    1    1  ...   0   0   \n",
       "2   3    Memphis   1.5   1.7     5     1  0.833    1    1    1  ...   1   1   \n",
       "3   4  Villanova   1.4   1.5     2     1  0.667    1    1    1  ...   0   0   \n",
       "4   5     Xavier   1.4   1.2     3     1  0.750    1    1    1  ...   0   0   \n",
       "\n",
       "   champ  top2    f4% champ% season  conf  seed  region  \n",
       "0      1     1  57.3%  29.6%   2008   B12   1.0       0  \n",
       "1      0     0   7.8%   2.2%   2008    SC  10.0       0  \n",
       "2      0     1  50.6%  20.2%   2008  CUSA   1.0       2  \n",
       "3      0     0   0.9%   0.1%   2008    BE  12.0       0  \n",
       "4      0     0   8.3%   0.8%   2008   A10   3.0       3  \n",
       "\n",
       "[5 rows x 21 columns]"
      ]
     },
     "execution_count": 2,
     "metadata": {},
     "output_type": "execute_result"
    }
   ],
   "source": [
    "df = pd.read_csv(f'{DATA_PATH}/tourney_outcomes.csv') # see get_trank_data.py\n",
    "df.head()"
   ]
  },
  {
   "cell_type": "code",
   "execution_count": 3,
   "metadata": {},
   "outputs": [],
   "source": [
    "conf_df = df.groupby(['season','conf'])[['team','pake','pase']].agg({'team':'count','pake':'sum','pase':'sum'}).reset_index()\n",
    "conf_df['pase'] = conf_df['pase'].apply(lambda x: round(x, 1))\n",
    "conf_df['pake'] = conf_df['pake'].apply(lambda x: round(x, 1))\n",
    "conf_df.columns=['season','conf','teams_conf','pake_conf','pase_conf']\n",
    "# conf_df"
   ]
  },
  {
   "cell_type": "code",
   "execution_count": 4,
   "metadata": {},
   "outputs": [],
   "source": [
    "df = df.merge(conf_df, how='left', on=['season','conf'])\n",
    "\n",
    "# subtract out the team's own performance\n",
    "df['pake_conf'] = df['pake_conf'] - df['pake']\n",
    "df['pase_conf'] = df['pase_conf'] - df['pase']\n",
    "\n",
    "df = df[['season','conf','team','seed','pake','pase','teams_conf','pake_conf','pase_conf']]"
   ]
  },
  {
   "cell_type": "markdown",
   "metadata": {},
   "source": [
    "### Analysis"
   ]
  },
  {
   "cell_type": "code",
   "execution_count": 5,
   "metadata": {},
   "outputs": [],
   "source": [
    "min_teams = 3"
   ]
  },
  {
   "cell_type": "markdown",
   "metadata": {},
   "source": [
    "#### 1. Basic regression"
   ]
  },
  {
   "cell_type": "code",
   "execution_count": 6,
   "metadata": {},
   "outputs": [
    {
     "data": {
      "text/plain": [
       "Intercept   -0.006007\n",
       "pase_conf   -0.001583\n",
       "dtype: float64"
      ]
     },
     "execution_count": 6,
     "metadata": {},
     "output_type": "execute_result"
    }
   ],
   "source": [
    "results = smf.ols(f'pase ~ pase_conf', data=df[df.teams_conf>=min_teams]).fit()\n",
    "results.params"
   ]
  },
  {
   "cell_type": "markdown",
   "metadata": {},
   "source": [
    "the coefficient on pase_conf is basically 0, meaning there's no effect of conference peers' performance on yours.\n",
    "\n",
    "but wait! this is biased because any time one team advances, it comes at the expense of another - so the bracket structure causes a negative correlation. Is that hiding some positive effect on underlying team performance? \n",
    "\n",
    "to do that we'll need a simulation!"
   ]
  },
  {
   "cell_type": "markdown",
   "metadata": {},
   "source": [
    "#### 2. Simulated tournaments"
   ]
  },
  {
   "cell_type": "code",
   "execution_count": 12,
   "metadata": {},
   "outputs": [],
   "source": [
    "# stop here and run scripts/create_bracket.py if you haven't already!\n",
    "sim_pase = pd.read_csv(f'{DATA_PATH}sim_pase.csv')"
   ]
  },
  {
   "cell_type": "code",
   "execution_count": 13,
   "metadata": {},
   "outputs": [],
   "source": [
    "conf_df = sim_pase.groupby(['season','conf'])[['team','pase']].agg({'team':'count','pase':'sum'}).reset_index()\n",
    "conf_df['pase'] = conf_df['pase'].apply(lambda x: round(x, 1))\n",
    "conf_df.columns=['season','conf','teams_conf','pase_conf']\n",
    "\n",
    "sim_pase = sim_pase.merge(conf_df, how='left', on=['season','conf'])\n",
    "\n",
    "# subtract out the team's own performance\n",
    "sim_pase['pase_conf'] = sim_pase['pase_conf'] - sim_pase['pase']\n",
    "\n",
    "sim_pase = sim_pase[['season','conf','team','seed','pase','teams_conf','pase_conf']]"
   ]
  },
  {
   "cell_type": "code",
   "execution_count": 19,
   "metadata": {},
   "outputs": [
    {
     "data": {
      "text/plain": [
       "Intercept    0.000149\n",
       "pase_conf   -0.042135\n",
       "dtype: float64"
      ]
     },
     "execution_count": 19,
     "metadata": {},
     "output_type": "execute_result"
    }
   ],
   "source": [
    "results = smf.ols(f'pase ~ pase_conf', data=sim_pase[sim_pase.teams_conf>=min_teams]).fit()\n",
    "results.params"
   ]
  },
  {
   "cell_type": "code",
   "execution_count": 20,
   "metadata": {},
   "outputs": [
    {
     "data": {
      "text/plain": [
       "Intercept    0.924973\n",
       "pase_conf    0.026301\n",
       "dtype: float64"
      ]
     },
     "execution_count": 20,
     "metadata": {},
     "output_type": "execute_result"
    }
   ],
   "source": [
    "results.pvalues"
   ]
  },
  {
   "cell_type": "markdown",
   "metadata": {},
   "source": [
    "in our simulation, there was a significant negative correlation between performance among teams in the same conference - due entirely to the bracket structure (one team's advancement must come at the expense of another)\n",
    "\n",
    "so the gap between our actual coefficient and the simulated one (.04) is roughly how much conference peers rise or fall together - not huge but not trivial either"
   ]
  },
  {
   "cell_type": "markdown",
   "metadata": {},
   "source": [
    "#### 3. Causes"
   ]
  },
  {
   "cell_type": "code",
   "execution_count": 21,
   "metadata": {},
   "outputs": [
    {
     "data": {
      "text/plain": [
       "Intercept    0.006239\n",
       "pake_conf   -0.035511\n",
       "dtype: float64"
      ]
     },
     "execution_count": 21,
     "metadata": {},
     "output_type": "execute_result"
    }
   ],
   "source": [
    "results = smf.ols(f'pake ~ pake_conf', data=df[df.teams_conf>=min_teams]).fit()\n",
    "results.params"
   ]
  },
  {
   "cell_type": "markdown",
   "metadata": {},
   "source": [
    "This is equivalent to #1, except using PAKE (computer ratings instead of seeds) \n",
    "\n",
    "The coefficient is much closer to our bracket-structure simulation, suggesting that most of the correlation between teams' outcomes is due to committee seeding, not computer ratings over or underrating conferences. "
   ]
  }
 ],
 "metadata": {
  "kernelspec": {
   "display_name": "cbb",
   "language": "python",
   "name": "python3"
  },
  "language_info": {
   "codemirror_mode": {
    "name": "ipython",
    "version": 3
   },
   "file_extension": ".py",
   "mimetype": "text/x-python",
   "name": "python",
   "nbconvert_exporter": "python",
   "pygments_lexer": "ipython3",
   "version": "3.8.13"
  }
 },
 "nbformat": 4,
 "nbformat_minor": 2
}
